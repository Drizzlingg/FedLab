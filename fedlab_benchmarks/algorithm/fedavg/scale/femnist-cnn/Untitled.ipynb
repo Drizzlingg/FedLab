{
 "cells": [
  {
   "cell_type": "code",
   "execution_count": 1,
   "id": "e625d13f",
   "metadata": {},
   "outputs": [],
   "source": [
    "import torch\n",
    "import argparse\n",
    "import sys\n",
    "import os\n",
    "\n",
    "from torch import nn\n",
    "import torch.nn.functional as F\n",
    "import torchvision\n",
    "import torchvision.transforms as transforms\n",
    "\n",
    "torch.manual_seed(0)\n",
    "sys.path.append(\"../../../../../\")\n",
    "\n",
    "from fedlab.core.client.trainer import SerialTrainer\n",
    "from fedlab.core.client.scale import ScaleClientManager\n",
    "from fedlab.core.network import DistNetwork\n",
    "from fedlab.utils.serialization import SerializationTool\n",
    "from fedlab.utils.logger import Logger\n",
    "from fedlab.utils.aggregator import Aggregators\n",
    "from fedlab.utils.functional import load_dict\n",
    "\n",
    "\n",
    "from fedlab_benchmarks.models.cnn import CNN_Femnist\n"
   ]
  },
  {
   "cell_type": "code",
   "execution_count": 2,
   "id": "0ea3e05f",
   "metadata": {},
   "outputs": [],
   "source": [
    "from fedlab_benchmarks.datasets.leaf_data_process.dataloader import get_LEAF_dataloader"
   ]
  },
  {
   "cell_type": "code",
   "execution_count": 3,
   "id": "3a25c253",
   "metadata": {},
   "outputs": [],
   "source": [
    "from fedlab_benchmarks.datasets.leaf_data_process.dataloader import get_LEAF_dataset"
   ]
  },
  {
   "cell_type": "code",
   "execution_count": 10,
   "id": "589f2a4a",
   "metadata": {},
   "outputs": [
    {
     "ename": "KeyError",
     "evalue": "36",
     "output_type": "error",
     "traceback": [
      "\u001b[0;31m---------------------------------------------------------------------------\u001b[0m",
      "\u001b[0;31mKeyError\u001b[0m                                  Traceback (most recent call last)",
      "\u001b[0;32m<ipython-input-10-a1bb08ba4296>\u001b[0m in \u001b[0;36m<module>\u001b[0;34m\u001b[0m\n\u001b[0;32m----> 1\u001b[0;31m \u001b[0mtrain\u001b[0m\u001b[0;34m,\u001b[0m \u001b[0mtest\u001b[0m \u001b[0;34m=\u001b[0m \u001b[0mget_LEAF_dataset\u001b[0m\u001b[0;34m(\u001b[0m\u001b[0;34m\"femnist\"\u001b[0m\u001b[0;34m,\u001b[0m \u001b[0;36m36\u001b[0m\u001b[0;34m)\u001b[0m\u001b[0;34m\u001b[0m\u001b[0;34m\u001b[0m\u001b[0m\n\u001b[0m",
      "\u001b[0;32m~/FedLab/fedlab_benchmarks/algorithm/fedavg/scale/femnist-cnn/../../../../../fedlab_benchmarks/datasets/leaf_data_process/dataloader.py\u001b[0m in \u001b[0;36mget_LEAF_dataset\u001b[0;34m(dataset, client_id)\u001b[0m\n\u001b[1;32m     27\u001b[0m \u001b[0;32mdef\u001b[0m \u001b[0mget_LEAF_dataset\u001b[0m\u001b[0;34m(\u001b[0m\u001b[0mdataset\u001b[0m\u001b[0;34m,\u001b[0m \u001b[0mclient_id\u001b[0m\u001b[0;34m)\u001b[0m\u001b[0;34m:\u001b[0m\u001b[0;34m\u001b[0m\u001b[0;34m\u001b[0m\u001b[0m\n\u001b[1;32m     28\u001b[0m     \u001b[0;32mif\u001b[0m \u001b[0mdataset\u001b[0m \u001b[0;34m==\u001b[0m \u001b[0;34m'femnist'\u001b[0m\u001b[0;34m:\u001b[0m\u001b[0;34m\u001b[0m\u001b[0;34m\u001b[0m\u001b[0m\n\u001b[0;32m---> 29\u001b[0;31m         trainset = FemnistDataset(client_id=client_id,\n\u001b[0m\u001b[1;32m     30\u001b[0m                                   \u001b[0mdata_root\u001b[0m\u001b[0;34m=\u001b[0m\u001b[0;34m'../data/femnist/data'\u001b[0m\u001b[0;34m,\u001b[0m\u001b[0;34m\u001b[0m\u001b[0;34m\u001b[0m\u001b[0m\n\u001b[1;32m     31\u001b[0m                                   is_train=True)\n",
      "\u001b[0;32m~/FedLab/fedlab_benchmarks/algorithm/fedavg/scale/femnist-cnn/../../../../../fedlab_benchmarks/datasets/leaf_data_process/dataset/femnist_dataset.py\u001b[0m in \u001b[0;36m__init__\u001b[0;34m(self, client_id, data_root, is_train)\u001b[0m\n\u001b[1;32m     31\u001b[0m         \u001b[0mself\u001b[0m\u001b[0;34m.\u001b[0m\u001b[0mdata_path\u001b[0m \u001b[0;34m=\u001b[0m \u001b[0mos\u001b[0m\u001b[0;34m.\u001b[0m\u001b[0mpath\u001b[0m\u001b[0;34m.\u001b[0m\u001b[0mjoin\u001b[0m\u001b[0;34m(\u001b[0m\u001b[0mdata_root\u001b[0m\u001b[0;34m,\u001b[0m \u001b[0;34m'train'\u001b[0m\u001b[0;34m)\u001b[0m \u001b[0;32mif\u001b[0m \u001b[0mis_train\u001b[0m \u001b[0;32melse\u001b[0m \u001b[0mos\u001b[0m\u001b[0;34m.\u001b[0m\u001b[0mpath\u001b[0m\u001b[0;34m.\u001b[0m\u001b[0mjoin\u001b[0m\u001b[0;34m(\u001b[0m\u001b[0mdata_root\u001b[0m\u001b[0;34m,\u001b[0m \u001b[0;34m'test'\u001b[0m\u001b[0;34m)\u001b[0m\u001b[0;34m\u001b[0m\u001b[0;34m\u001b[0m\u001b[0m\n\u001b[1;32m     32\u001b[0m         \u001b[0mself\u001b[0m\u001b[0;34m.\u001b[0m\u001b[0mclient_id\u001b[0m \u001b[0;34m=\u001b[0m \u001b[0mclient_id\u001b[0m\u001b[0;34m\u001b[0m\u001b[0;34m\u001b[0m\u001b[0m\n\u001b[0;32m---> 33\u001b[0;31m         \u001b[0mself\u001b[0m\u001b[0;34m.\u001b[0m\u001b[0mdata\u001b[0m\u001b[0;34m,\u001b[0m \u001b[0mself\u001b[0m\u001b[0;34m.\u001b[0m\u001b[0mtargets\u001b[0m \u001b[0;34m=\u001b[0m \u001b[0mself\u001b[0m\u001b[0;34m.\u001b[0m\u001b[0mget_client_data_target\u001b[0m\u001b[0;34m(\u001b[0m\u001b[0;34m)\u001b[0m\u001b[0;34m\u001b[0m\u001b[0;34m\u001b[0m\u001b[0m\n\u001b[0m\u001b[1;32m     34\u001b[0m \u001b[0;34m\u001b[0m\u001b[0m\n\u001b[1;32m     35\u001b[0m     \u001b[0;32mdef\u001b[0m \u001b[0mget_client_data_target\u001b[0m\u001b[0;34m(\u001b[0m\u001b[0mself\u001b[0m\u001b[0;34m)\u001b[0m\u001b[0;34m:\u001b[0m\u001b[0;34m\u001b[0m\u001b[0;34m\u001b[0m\u001b[0m\n",
      "\u001b[0;32m~/FedLab/fedlab_benchmarks/algorithm/fedavg/scale/femnist-cnn/../../../../../fedlab_benchmarks/datasets/leaf_data_process/dataset/femnist_dataset.py\u001b[0m in \u001b[0;36mget_client_data_target\u001b[0;34m(self)\u001b[0m\n\u001b[1;32m     39\u001b[0m         \"\"\"\n\u001b[1;32m     40\u001b[0m         \u001b[0mclient_id_name_dict\u001b[0m\u001b[0;34m,\u001b[0m \u001b[0mclient_groups\u001b[0m\u001b[0;34m,\u001b[0m \u001b[0mclient_name_data_dict\u001b[0m \u001b[0;34m=\u001b[0m \u001b[0mread_dir\u001b[0m\u001b[0;34m(\u001b[0m\u001b[0mdata_dir\u001b[0m\u001b[0;34m=\u001b[0m\u001b[0mself\u001b[0m\u001b[0;34m.\u001b[0m\u001b[0mdata_path\u001b[0m\u001b[0;34m)\u001b[0m\u001b[0;34m\u001b[0m\u001b[0;34m\u001b[0m\u001b[0m\n\u001b[0;32m---> 41\u001b[0;31m         \u001b[0mclient_name\u001b[0m \u001b[0;34m=\u001b[0m \u001b[0mclient_id_name_dict\u001b[0m\u001b[0;34m[\u001b[0m\u001b[0mself\u001b[0m\u001b[0;34m.\u001b[0m\u001b[0mclient_id\u001b[0m\u001b[0;34m]\u001b[0m\u001b[0;34m\u001b[0m\u001b[0;34m\u001b[0m\u001b[0m\n\u001b[0m\u001b[1;32m     42\u001b[0m         \u001b[0mdata\u001b[0m \u001b[0;34m=\u001b[0m \u001b[0mtorch\u001b[0m\u001b[0;34m.\u001b[0m\u001b[0mtensor\u001b[0m\u001b[0;34m(\u001b[0m\u001b[0mclient_name_data_dict\u001b[0m\u001b[0;34m[\u001b[0m\u001b[0mclient_name\u001b[0m\u001b[0;34m]\u001b[0m\u001b[0;34m[\u001b[0m\u001b[0;34m'x'\u001b[0m\u001b[0;34m]\u001b[0m\u001b[0;34m,\u001b[0m \u001b[0mdtype\u001b[0m\u001b[0;34m=\u001b[0m\u001b[0mtorch\u001b[0m\u001b[0;34m.\u001b[0m\u001b[0mfloat32\u001b[0m\u001b[0;34m)\u001b[0m\u001b[0;34m\u001b[0m\u001b[0;34m\u001b[0m\u001b[0m\n\u001b[1;32m     43\u001b[0m         \u001b[0mdata\u001b[0m \u001b[0;34m=\u001b[0m \u001b[0mtorch\u001b[0m\u001b[0;34m.\u001b[0m\u001b[0mreshape\u001b[0m\u001b[0;34m(\u001b[0m\u001b[0mdata\u001b[0m\u001b[0;34m,\u001b[0m \u001b[0;34m(\u001b[0m\u001b[0;34m-\u001b[0m\u001b[0;36m1\u001b[0m\u001b[0;34m,\u001b[0m \u001b[0;36m1\u001b[0m\u001b[0;34m,\u001b[0m \u001b[0;36m28\u001b[0m\u001b[0;34m,\u001b[0m \u001b[0;36m28\u001b[0m\u001b[0;34m)\u001b[0m\u001b[0;34m)\u001b[0m\u001b[0;34m\u001b[0m\u001b[0;34m\u001b[0m\u001b[0m\n",
      "\u001b[0;31mKeyError\u001b[0m: 36"
     ]
    }
   ],
   "source": [
    "train, test = get_LEAF_dataset(\"femnist\", 36)"
   ]
  },
  {
   "cell_type": "code",
   "execution_count": 7,
   "id": "432a0f2f",
   "metadata": {},
   "outputs": [],
   "source": [
    "train_ds = ds[0]"
   ]
  },
  {
   "cell_type": "code",
   "execution_count": 8,
   "id": "bfbe4c47",
   "metadata": {},
   "outputs": [
    {
     "data": {
      "text/plain": [
       "1242"
      ]
     },
     "execution_count": 8,
     "metadata": {},
     "output_type": "execute_result"
    }
   ],
   "source": [
    "len(train_ds)"
   ]
  },
  {
   "cell_type": "code",
   "execution_count": null,
   "id": "095424b3",
   "metadata": {},
   "outputs": [],
   "source": []
  }
 ],
 "metadata": {
  "kernelspec": {
   "display_name": "Python 3.9.5 64-bit ('fedlab': conda)",
   "language": "python",
   "name": "python395jvsc74a57bd076ea19439f36f4892158614b6aacd4db27ba9aee20c7fce98050784b23723422"
  },
  "language_info": {
   "codemirror_mode": {
    "name": "ipython",
    "version": 3
   },
   "file_extension": ".py",
   "mimetype": "text/x-python",
   "name": "python",
   "nbconvert_exporter": "python",
   "pygments_lexer": "ipython3",
   "version": "3.9.5"
  }
 },
 "nbformat": 4,
 "nbformat_minor": 5
}
