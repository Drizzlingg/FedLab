{
 "cells": [
  {
   "cell_type": "code",
   "execution_count": 9,
   "source": [
    "import torch\n",
    "import argparse\n",
    "import sys\n",
    "import os\n",
    "\n",
    "sys.path.append(\"../../../../\")\n",
    "from fedlab.utils.functional import save_dict, load_dict\n",
    "from fedlab.utils.dataset.slicing import noniid_slicing, random_slicing\n",
    "\n",
    "import torchvision\n",
    "import torchvision.transforms as transforms\n",
    "\n"
   ],
   "outputs": [],
   "metadata": {}
  },
  {
   "cell_type": "code",
   "execution_count": 10,
   "source": [
    "root = \"../../../../../datasets/mnist/\"\n",
    "trainset = torchvision.datasets.MNIST(root=root,\n",
    "                                      train=True,\n",
    "                                      download=True,\n",
    "                                      transform=transforms.ToTensor())"
   ],
   "outputs": [],
   "metadata": {}
  },
  {
   "cell_type": "code",
   "execution_count": 11,
   "source": [
    "data_indices = noniid_slicing(trainset,\n",
    "                            num_clients=100,\n",
    "                            num_shards=200)\n",
    "save_dict(data_indices, \"mnist_noniid.pkl\")"
   ],
   "outputs": [],
   "metadata": {}
  },
  {
   "cell_type": "code",
   "execution_count": 12,
   "source": [
    "data_indices = random_slicing(trainset, num_clients=100)\n",
    "save_dict(data_indices,\"mnist_iid.pkl\")"
   ],
   "outputs": [],
   "metadata": {}
  },
  {
   "cell_type": "code",
   "execution_count": 13,
   "source": [
    "dic = load_dict(\"mnist_noniid.pkl\")"
   ],
   "outputs": [],
   "metadata": {}
  },
  {
   "cell_type": "code",
   "execution_count": 23,
   "source": [
    "subdic = {key:values for key,values in dic.items() if key>=10 and key<20}\n",
    "subdic.keys()"
   ],
   "outputs": [
    {
     "output_type": "execute_result",
     "data": {
      "text/plain": [
       "dict_keys([10, 11, 12, 13, 14, 15, 16, 17, 18, 19])"
      ]
     },
     "metadata": {},
     "execution_count": 23
    }
   ],
   "metadata": {}
  },
  {
   "cell_type": "code",
   "execution_count": 20,
   "source": [],
   "outputs": [
    {
     "output_type": "execute_result",
     "data": {
      "text/plain": [
       "dict_keys([1, 2, 3, 4, 5, 6, 7, 8, 9])"
      ]
     },
     "metadata": {},
     "execution_count": 20
    }
   ],
   "metadata": {}
  },
  {
   "cell_type": "code",
   "execution_count": 29,
   "source": [
    "client_id_list = [0,1,2,3,4,8]\n",
    "subdic = {idx:dic[id] for idx, id in enumerate(client_id_list)}\n",
    "subdic.keys()"
   ],
   "outputs": [
    {
     "output_type": "execute_result",
     "data": {
      "text/plain": [
       "dict_keys([0, 1, 2, 3, 4, 5])"
      ]
     },
     "metadata": {},
     "execution_count": 29
    }
   ],
   "metadata": {}
  },
  {
   "cell_type": "code",
   "execution_count": null,
   "source": [],
   "outputs": [],
   "metadata": {}
  }
 ],
 "metadata": {
  "kernelspec": {
   "name": "python3",
   "display_name": "Python 3.9.5 64-bit ('fedlab': conda)"
  },
  "language_info": {
   "codemirror_mode": {
    "name": "ipython",
    "version": 3
   },
   "file_extension": ".py",
   "mimetype": "text/x-python",
   "name": "python",
   "nbconvert_exporter": "python",
   "pygments_lexer": "ipython3",
   "version": "3.9.5"
  },
  "interpreter": {
   "hash": "76ea19439f36f4892158614b6aacd4db27ba9aee20c7fce98050784b23723422"
  }
 },
 "nbformat": 4,
 "nbformat_minor": 2
}