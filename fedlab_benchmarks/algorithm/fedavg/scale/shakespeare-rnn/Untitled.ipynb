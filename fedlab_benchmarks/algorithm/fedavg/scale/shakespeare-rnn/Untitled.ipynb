{
 "cells": [
  {
   "cell_type": "code",
   "execution_count": 1,
   "metadata": {},
   "outputs": [],
   "source": [
    "import torch\n",
    "import argparse\n",
    "import sys\n",
    "import os\n",
    "\n",
    "from torch import nn\n",
    "import torch.nn.functional as F\n",
    "import torchvision\n",
    "import torchvision.transforms as transforms\n",
    "\n",
    "torch.manual_seed(0)\n",
    "sys.path.append(\"../../../../../\")\n",
    "\n",
    "from fedlab.core.client.scale import ScaleClientManager\n",
    "from fedlab.core.network import DistNetwork\n",
    "from fedlab.utils.serialization import SerializationTool\n",
    "from fedlab.utils.logger import Logger\n",
    "from fedlab.utils.aggregator import Aggregators\n",
    "from fedlab.utils.functional import load_dict\n",
    "from fedlab.utils.functional import AverageMeter\n",
    "\n",
    "from fedlab_benchmarks.models.rnn import RNN_Shakespeare\n",
    "from fedlab_benchmarks.datasets.leaf_data_process.dataloader import get_LEAF_dataset, get_LEAF_dataloader"
   ]
  },
  {
   "cell_type": "code",
   "execution_count": 2,
   "metadata": {},
   "outputs": [],
   "source": [
    "def evaluate(model, criterion, test_loader):\n",
    "    model.eval()\n",
    "    gpu = next(model.parameters()).device\n",
    "\n",
    "    loss_ = AverageMeter()\n",
    "    acc_ = AverageMeter()\n",
    "\n",
    "    with torch.no_grad():\n",
    "        for inputs, labels in test_loader:\n",
    "\n",
    "            inputs = inputs.to(gpu)\n",
    "            labels = labels.to(gpu)\n",
    "\n",
    "            outputs = model(inputs)\n",
    "            loss = criterion(outputs, labels)\n",
    "\n",
    "            _, predicted = torch.max(outputs, 1)\n",
    "            loss_.update(loss.item())\n",
    "            acc_.update(torch.sum(predicted.eq(labels)).item(), len(labels))\n",
    "\n",
    "    return loss_.sum, acc_.avg"
   ]
  },
  {
   "cell_type": "code",
   "execution_count": 3,
   "metadata": {},
   "outputs": [],
   "source": [
    "train_loader, test_loader = get_LEAF_dataloader(\"shakespeare\",1)"
   ]
  },
  {
   "cell_type": "code",
   "execution_count": 11,
   "metadata": {},
   "outputs": [
    {
     "name": "stdout",
     "output_type": "stream",
     "text": [
      "(4.40276575088501, 0.17871222076215507)\n",
      "(4.294654369354248, 0.17871222076215507)\n",
      "(4.1673760414123535, 0.17871222076215507)\n",
      "(4.001285076141357, 0.17871222076215507)\n",
      "(3.7913155555725098, 0.17871222076215507)\n",
      "(3.6132514476776123, 0.17871222076215507)\n",
      "(3.4578545093536377, 0.17871222076215507)\n",
      "(3.334017753601074, 0.17871222076215507)\n",
      "(3.258016586303711, 0.17871222076215507)\n",
      "(3.212472915649414, 0.17871222076215507)\n"
     ]
    }
   ],
   "source": [
    "model = RNN_Shakespeare().cuda()\n",
    "criterion = torch.nn.CrossEntropyLoss()\n",
    "optimizer = torch.optim.SGD(model.parameters(), lr=0.02)\n",
    "\n",
    "\n",
    "for _ in range(10):\n",
    "    model.train()\n",
    "    for data, target in train_loader:\n",
    "        \n",
    "        data = data.cuda()\n",
    "        target = target.cuda()\n",
    "\n",
    "        output = model(data)\n",
    "\n",
    "        loss = criterion(output, target)\n",
    "\n",
    "        optimizer.zero_grad()\n",
    "        loss.backward()\n",
    "        optimizer.step()\n",
    "    print(evaluate(model, criterion, test_loader))"
   ]
  },
  {
   "cell_type": "code",
   "execution_count": 7,
   "metadata": {},
   "outputs": [],
   "source": [
    "for data, label in test_loader:\n",
    "    break"
   ]
  },
  {
   "cell_type": "code",
   "execution_count": 8,
   "metadata": {},
   "outputs": [
    {
     "data": {
      "text/plain": [
       "tensor([[20, 23, 68,  ..., 45,  4, 68],\n",
       "        [23, 68, 45,  ...,  4, 68, 44],\n",
       "        [68, 45,  4,  ..., 68, 44, 64],\n",
       "        ...,\n",
       "        [58, 13, 72,  ..., 24,  1, 65],\n",
       "        [13, 72, 13,  ...,  1, 65,  3],\n",
       "        [72, 13,  0,  ..., 65,  3, 58]])"
      ]
     },
     "execution_count": 8,
     "metadata": {},
     "output_type": "execute_result"
    }
   ],
   "source": [
    "data"
   ]
  },
  {
   "cell_type": "code",
   "execution_count": 9,
   "metadata": {},
   "outputs": [
    {
     "data": {
      "text/plain": [
       "tensor([44, 64, 35, 24, 13,  0, 65, 24,  3,  2, 64, 63, 24, 68, 45, 64, 13, 65,\n",
       "        24, 13, 41, 68,  4, 13, 24,  2, 68,  4,  4, 65, 24,  1, 16, 13, 65, 42,\n",
       "        13, 65,  4, 13, 24, 66, 64,  2,  2, 13, 24, 23, 13, 24,  4, 45, 23, 44,\n",
       "        21,  2, 69, 13, 63, 24, 13,  4,  1, 23, 68, 13, 24,  3, 64, 63, 22, 35,\n",
       "        24,  4, 13, 23, 42, 58, 13, 72, 13, 25, 65,  2,  2, 13,  1, 64, 44, 20,\n",
       "        64, 42, 23, 45,  4,  1, 13, 64, 63,  4, 13, 44, 23, 13, 42, 65, 24,  1,\n",
       "        13, 23, 42, 13, 49, 23, 45,  4, 68, 44, 64, 35, 24, 13, 41, 68,  4,  4,\n",
       "        35, 45, 65, 44, 21, 58, 13, 10, 45, 65,  4,  1, 64, 64, 16, 13, 63,  2,\n",
       "         2, 23, 25, 13,  4,  1, 64, 13, 25, 65, 44,  0, 58, 13, 72, 44,  0, 64,\n",
       "        64,  0, 16, 13, 24, 65, 45, 16, 13, 65, 42, 13, 69, 23, 68, 45, 13, 66,\n",
       "        64,  4, 63,  3,  1, 23, 45, 13, 24,  4, 65, 44, 22, 16, 13, 72, 13, 25,\n",
       "        65,  2,  2, 13, 24,  4, 23,  3, 13, 66, 69, 13, 44, 23, 24, 64, 39, 13,\n",
       "        23, 45, 13, 63, 21, 63, 65, 44, 24,  4, 13, 63, 44, 69, 13, 66, 63, 44,\n",
       "        35, 24, 13, 66, 64,  4, 63,  3,  1, 23, 45, 58, 13, 10, 45, 65,  4,  1,\n",
       "        64, 64, 16, 13, 21, 64,  4, 13,  4,  1, 64, 64, 13, 42, 68, 45,  4,  1,\n",
       "        64, 45, 58, 13, 49, 23,  1, 78, 13,  3, 45, 65,  4,  1, 64, 64, 13, 24,\n",
       "         4, 63, 44,  0, 13, 63, 25, 63, 69, 58, 13, 70, 13,  3, 63,  3, 64, 45,\n",
       "        13, 42, 45, 23, 66, 13, 49, 23, 45,  4, 68, 44, 64, 35, 24, 13, 20,  2,\n",
       "        23, 24, 64, 81, 24,  4, 23, 23,  2, 13,  4, 23, 13, 21, 65, 46, 64, 13,\n",
       "         4, 23, 13, 63, 13, 44, 23, 41,  2, 64, 66, 63, 44, 78, 13,  9, 23, 23,\n",
       "        22, 13,  1, 64, 45, 64, 13,  1, 64, 13, 20, 23, 66, 64, 24, 13,  1, 65,\n",
       "        66, 24, 64,  2, 42, 58, 13, 71, 44,  4, 64, 45, 13,  9, 70, 49, 71, 75,\n",
       "        13,  8, 64, 45, 64, 13, 65, 24, 13, 63, 13,  3, 68, 45, 13, 23, 42, 13,\n",
       "        49, 23, 45,  4, 68, 44, 64, 35, 24, 16, 13, 24, 65, 45, 16, 13, 23, 45,\n",
       "        13, 23, 42, 13, 49, 23, 45,  4, 68, 44, 64, 35, 24, 13, 20, 63,  4, 16,\n",
       "        13, 41, 68,  4, 13, 44, 23,  4, 13, 63, 13, 66, 68, 24, 22, 81, 20, 63,\n",
       "         4, 16, 13,  4,  1, 63,  4, 13,  1, 63, 24, 13, 42, 63,  2,  2, 35, 44,\n",
       "        13, 65, 44,  4, 23, 13,  4,  1, 64, 13, 68, 44, 20,  2, 64, 63, 44, 13,\n",
       "        42, 65, 24,  1,  3, 23, 44,  0, 13, 23, 42, 13,  1, 64, 45, 13,  0, 65,\n",
       "        24,  3,  2, 64, 63, 24, 68, 45, 64, 16, 13, 63, 44,  0, 16, 13, 63, 24,\n",
       "        13,  1, 64, 13, 24, 63, 69, 24, 16, 13, 65, 24, 13, 66, 68,  0,  0, 65,\n",
       "        64,  0, 13, 25, 65,  4,  1, 63,  2, 58, 13, 10, 45, 63, 69, 13, 69, 23,\n",
       "        68, 16, 13, 24, 65, 45, 16, 13, 68, 24, 64, 13,  4,  1, 64, 13, 20, 63,\n",
       "        45,  3, 13, 63, 24, 13, 69, 23, 68, 13, 66, 63, 69, 39, 13, 42, 23, 45,\n",
       "        13,  1, 64, 13,  2, 23, 23, 22, 24, 13,  2, 65, 22, 64, 13, 63, 13,  3,\n",
       "        23, 23, 45, 16, 13,  0, 64, 20, 63, 69, 64,  0, 16, 13, 65, 44, 21, 64,\n",
       "        44, 65, 23, 68, 24, 16, 13, 42, 23, 23,  2, 65, 24,  1, 16, 13, 45, 63,\n",
       "        24, 20, 63,  2,  2, 69, 13, 22, 44, 63, 46, 64, 58, 13, 72, 13,  0, 23,\n",
       "        13,  3, 65,  4, 69, 13,  1, 65, 24, 13,  0, 65, 24,  4, 45, 64, 24, 24,\n",
       "        13, 65, 44, 13, 66, 69, 13, 24, 65, 66, 65,  2, 64, 24, 13, 23, 42, 13,\n",
       "        20, 23, 66, 42, 23, 45,  4, 16, 13, 63, 44,  0, 13,  2, 64, 63, 46, 64,\n",
       "        13,  1, 65, 66, 13,  4, 23, 13, 69, 23, 68, 45, 13,  2, 23, 45,  0, 24,\n",
       "         1, 65,  3, 58, 13])"
      ]
     },
     "execution_count": 9,
     "metadata": {},
     "output_type": "execute_result"
    }
   ],
   "source": [
    "label"
   ]
  },
  {
   "cell_type": "code",
   "execution_count": null,
   "metadata": {},
   "outputs": [],
   "source": []
  }
 ],
 "metadata": {
  "kernelspec": {
   "display_name": "Python 3.9.5 64-bit ('fedlab': conda)",
   "language": "python",
   "name": "python395jvsc74a57bd076ea19439f36f4892158614b6aacd4db27ba9aee20c7fce98050784b23723422"
  },
  "language_info": {
   "codemirror_mode": {
    "name": "ipython",
    "version": 3
   },
   "file_extension": ".py",
   "mimetype": "text/x-python",
   "name": "python",
   "nbconvert_exporter": "python",
   "pygments_lexer": "ipython3",
   "version": "3.9.5"
  }
 },
 "nbformat": 4,
 "nbformat_minor": 2
}
