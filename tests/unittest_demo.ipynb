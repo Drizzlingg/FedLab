{
 "cells": [
  {
   "cell_type": "code",
   "execution_count": 1,
   "metadata": {},
   "outputs": [],
   "source": [
    "import sys\n",
    "import torch\n",
    "sys.path.append('/home/zengdun/FedLab/')\n",
    "import torchvision\n",
    "import torchvision.transforms as transforms\n",
    "from copy import deepcopy\n",
    "import random\n",
    "import os \n",
    "\n",
    "os.environ[\"CUDA_VISIBLE_DEVICES\"] = \"1\"\n"
   ]
  },
  {
   "cell_type": "code",
   "execution_count": null,
   "metadata": {},
   "outputs": [],
   "source": [
    "# unit test of `SerialHandler`\n",
    "from fedlab_utils.dataset.sampler import DistributedSampler\n",
    "from fedlab_core.client.serial_handler import SerialHandler\n",
    "from models.lenet import LeNet\n",
    "from fedlab_utils.aggregator import Aggregators\n",
    "from fedlab_utils.serialization import SerializationTool\n",
    "from fedlab_utils.functional import evaluate\n",
    "\n",
    "model = LeNet().cuda()\n",
    "aggregator = Aggregators.fedavg_aggregate\n",
    "criterion = torch.nn.CrossEntropyLoss()\n",
    "\n",
    "trainset = torchvision.datasets.MNIST(\n",
    "    root='/home/zengdun/datasets/mnist/', train=True, download=True, transform=transforms.ToTensor())\n",
    "\n",
    "testset = torchvision.datasets.MNIST(\n",
    "    root='/home/zengdun/datasets/mnist/', train=False, download=True, transform=transforms.ToTensor())\n",
    "test_loader = torch.utils.data.DataLoader(testset, batch_size=len(testset), drop_last=False, shuffle=False)\n",
    "\n",
    "sim_client_num = 100  # client总数\n",
    "\n",
    "test_handler = SerialHandler(local_model=deepcopy(model), aggregator=aggregator, dataset=trainset, sim_client_num=sim_client_num)\n",
    "\n",
    "model_params = SerializationTool.serialize_model(model)\n",
    "\n",
    "to_select = [i+1 for i in range(sim_client_num)] # client_id 从1开始\n",
    "\n",
    "for global_epoch in range(2):\n",
    "    selection = random.sample(to_select, 10)\n",
    "    print(selection)\n",
    "    model_params = test_handler.train(epochs=10, batch_size=128, idx_list=selection, model_parameters=model_params, cuda=True)\n",
    "    SerializationTool.deserialize_model(model, model_params)\n",
    "    evaluate(model, criterion, test_loader, cuda=True)\n"
   ]
  },
  {
   "cell_type": "code",
   "execution_count": 2,
   "metadata": {},
   "outputs": [
    {
     "output_type": "stream",
     "name": "stdout",
     "text": [
      "tensor([4, 4, 0, 0, 4, 4, 0, 0, 0, 4, 4, 4, 0, 0, 4, 0, 4, 0, 0, 0, 4, 4, 4, 4,\n        0, 4, 0, 4, 4, 0, 4, 4, 0, 0, 0, 0, 0, 0, 0, 4, 4, 4, 4, 0, 0, 4, 0, 0,\n        4, 4, 4, 4, 0, 4, 4, 4, 0, 0, 0, 4, 4, 4, 4, 4, 4, 0, 0, 4, 0, 0, 0, 0,\n        0, 4, 0, 4, 4, 4, 4, 0, 4, 0, 0, 0, 4, 0, 4, 0, 4, 0, 4, 4, 4, 4, 4, 0,\n        4, 0, 4, 0])\ntensor([4, 0, 4, 0, 4, 4, 0, 4, 0, 0, 0, 0, 0, 4, 4, 4, 4, 4, 4, 0, 0, 0, 4, 4,\n        0, 0, 4, 4, 4, 4, 0, 0, 4, 0, 0, 4, 4, 0, 4, 4, 4, 4, 4, 0, 4, 0, 4, 0,\n        0, 0, 4, 0, 4, 0, 0, 0, 0, 0, 4, 4, 4, 0, 4, 0, 4, 0, 0, 0, 4, 0, 0, 4,\n        4, 4, 4, 0, 4, 0, 4, 4, 4, 4, 4, 4, 4, 0, 4, 4, 0, 0, 4, 0, 0, 4, 0, 4,\n        4, 0, 0, 0])\ntensor([4, 0, 4, 4, 4, 4, 0, 0, 0, 0, 4, 4, 0, 0, 0, 4, 0, 0, 4, 4, 4, 4, 4, 0,\n        0, 4, 0, 4, 4, 0, 0, 0, 4, 0, 4, 0, 0, 4, 4, 4, 4, 0, 0, 4, 0, 0, 4, 4,\n        0, 0, 0, 0, 0, 0, 4, 0, 0, 4, 0, 0, 4, 0, 0, 4, 0, 4, 0, 0, 4, 0, 4, 4,\n        4, 0, 0, 4, 0, 0, 4, 0, 4, 4, 0, 4, 4, 4, 0, 4, 0, 4, 4, 0, 0, 0, 0, 0,\n        4, 4, 4, 4])\ntensor([0, 4, 4, 4, 0, 0, 0, 0, 0, 4, 0, 4, 0, 0, 0, 0, 0, 4, 4, 4, 4, 0, 0, 0,\n        4, 0, 4, 4, 4, 0, 4, 4, 0, 0, 4, 0, 0, 4, 0, 4, 0, 0, 4, 4, 0, 0, 4, 4,\n        4, 4, 4, 4, 4, 4, 0, 0, 0, 0, 4, 4, 0, 0, 0, 0, 0, 4, 4, 0, 4, 0, 4, 4,\n        0, 4, 0, 4, 4, 0, 4, 0, 0, 0, 4, 4, 4, 4, 4, 4, 0, 0, 4, 4, 0, 0, 4, 0,\n        0, 0, 0, 4])\ntensor([0, 4, 4, 4, 0, 0, 0, 0, 0, 4, 0, 0, 4, 0, 4, 0, 4, 4, 0, 4, 0, 4, 0, 0,\n        0, 0, 0, 4, 4, 0, 4, 4, 0, 0, 4, 0, 0, 0, 4, 4, 0, 4, 4, 0, 0, 4, 4, 4,\n        0, 4, 0, 0, 4, 4, 4, 4, 0, 4, 0, 4, 4, 0, 0, 0, 4, 0, 4, 4, 4, 0, 4, 4,\n        4, 0, 0, 0, 4, 0, 0, 0, 4, 4, 0, 0, 0, 4, 4, 0, 4, 4, 4, 0, 4, 4, 0, 4,\n        4, 4, 4, 4])\ntensor([0, 0, 0, 4, 4, 0, 0, 0, 0, 0, 4, 4, 4, 4, 0, 4, 0, 4, 0, 4, 0, 0, 0, 4,\n        4, 0, 0, 0, 4, 4, 0, 0, 4, 0, 0, 4, 0, 0, 4, 0, 4, 0, 4, 0, 4, 4, 0, 4,\n        4, 0, 0, 0, 4, 0, 0, 0, 0, 0, 4, 0, 4, 0, 4, 4, 4, 0, 4, 4, 0, 4, 0, 4,\n        0, 0, 4, 4, 4, 0, 4, 4, 4, 0, 0, 4, 4, 0, 0, 0, 0, 0, 0, 4, 4, 4, 0, 4,\n        0, 4, 0, 0])\n"
     ]
    }
   ],
   "source": [
    "# sampler test\n",
    "from  fedlab_utils.dataset.slicing import noniid_slicing\n",
    "from fedlab_utils.dataset.sampler import AssignSampler\n",
    "trainset = torchvision.datasets.MNIST(\n",
    "    root='/home/zengdun/datasets/mnist/', train=True, download=True, transform=transforms.ToTensor())\n",
    "\n",
    "dict = noniid_slicing(trainset, 100, 200)\n",
    "sampler = AssignSampler(dict[0], shuffle=True)\n",
    "train_loader = torch.utils.data.DataLoader(trainset, sampler = sampler, batch_size=100)\n",
    "for data, label in train_loader:\n",
    "    print(label)"
   ]
  },
  {
   "cell_type": "code",
   "execution_count": null,
   "metadata": {},
   "outputs": [],
   "source": []
  }
 ],
 "metadata": {
  "kernelspec": {
   "name": "python3",
   "display_name": "Python 3.9.5 64-bit ('fedlab': conda)"
  },
  "language_info": {
   "codemirror_mode": {
    "name": "ipython",
    "version": 3
   },
   "file_extension": ".py",
   "mimetype": "text/x-python",
   "name": "python",
   "nbconvert_exporter": "python",
   "pygments_lexer": "ipython3",
   "version": "3.9.5"
  },
  "interpreter": {
   "hash": "76ea19439f36f4892158614b6aacd4db27ba9aee20c7fce98050784b23723422"
  }
 },
 "nbformat": 4,
 "nbformat_minor": 4
}