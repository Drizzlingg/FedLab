{
 "cells": [
  {
   "cell_type": "code",
   "execution_count": 1,
   "metadata": {},
   "outputs": [],
   "source": [
    "import sys\n",
    "import torch\n",
    "sys.path.append('/home/zengdun/FedLab/')\n",
    "import torchvision\n",
    "import torchvision.transforms as transforms\n",
    "\n"
   ]
  },
  {
   "cell_type": "code",
   "execution_count": 2,
   "metadata": {},
   "outputs": [
    {
     "output_type": "stream",
     "name": "stdout",
     "text": [
      "2021-06-22 14:52:10,763 - root - INFO - starting training process of client [1]\n",
      "2021-06-22 14:52:11,785 - root - INFO - Client[1] Traning. Epoch 1/5, Loss 107.2672, Time 1.02s\n",
      "2021-06-22 14:52:12,829 - root - INFO - Client[1] Traning. Epoch 2/5, Loss 104.6406, Time 1.04s\n",
      "2021-06-22 14:52:13,949 - root - INFO - Client[1] Traning. Epoch 3/5, Loss 99.2267, Time 1.12s\n",
      "2021-06-22 14:52:15,103 - root - INFO - Client[1] Traning. Epoch 4/5, Loss 84.9698, Time 1.15s\n",
      "2021-06-22 14:52:16,242 - root - INFO - Client[1] Traning. Epoch 5/5, Loss 58.5457, Time 1.14s\n",
      "2021-06-22 14:52:16,246 - root - INFO - starting training process of client [2]\n",
      "2021-06-22 14:52:17,288 - root - INFO - Client[2] Traning. Epoch 1/5, Loss 107.3068, Time 1.04s\n",
      "2021-06-22 14:52:18,313 - root - INFO - Client[2] Traning. Epoch 2/5, Loss 104.6299, Time 1.02s\n",
      "2021-06-22 14:52:19,346 - root - INFO - Client[2] Traning. Epoch 3/5, Loss 99.0407, Time 1.03s\n",
      "2021-06-22 14:52:20,494 - root - INFO - Client[2] Traning. Epoch 4/5, Loss 84.0986, Time 1.15s\n",
      "2021-06-22 14:52:21,810 - root - INFO - Client[2] Traning. Epoch 5/5, Loss 56.6858, Time 1.31s\n",
      "2021-06-22 14:52:21,815 - root - INFO - starting training process of client [3]\n",
      "2021-06-22 14:52:22,775 - root - INFO - Client[3] Traning. Epoch 1/5, Loss 107.3031, Time 0.96s\n",
      "2021-06-22 14:52:23,723 - root - INFO - Client[3] Traning. Epoch 2/5, Loss 104.7374, Time 0.95s\n",
      "2021-06-22 14:52:24,813 - root - INFO - Client[3] Traning. Epoch 3/5, Loss 99.5507, Time 1.09s\n",
      "2021-06-22 14:52:26,056 - root - INFO - Client[3] Traning. Epoch 4/5, Loss 85.8187, Time 1.24s\n",
      "2021-06-22 14:52:27,065 - root - INFO - Client[3] Traning. Epoch 5/5, Loss 58.7009, Time 1.01s\n",
      "Aggregators.fedavg_aggregate:  merged shape  torch.Size([1256080])\n"
     ]
    },
    {
     "output_type": "execute_result",
     "data": {
      "text/plain": [
       "tensor([-0.0659, -0.0157,  0.0781,  ...,  0.0338, -0.0319,  0.0281])"
      ]
     },
     "metadata": {},
     "execution_count": 2
    }
   ],
   "source": [
    "# unit test of `SerialHandler`\n",
    "from fedlab_utils.dataset.sampler import DistributedSampler\n",
    "from fedlab_core.client.serial_handler import SerialSingleHandler\n",
    "from models.lenet import LeNet\n",
    "from fedlab_utils.aggregator import Aggregators\n",
    "from fedlab_utils.serialization import SerializationTool\n",
    "\n",
    "model = LeNet().cuda()\n",
    "aggregator = Aggregators.fedavg_aggregate\n",
    "trainset = torchvision.datasets.MNIST(\n",
    "    root='/home/zengdun/datasets/mnist/', train=True, download=True, transform=transforms.ToTensor())\n",
    "sim_client_num = 10\n",
    "\n",
    "test_handler = SerialHandler(local_model=model, aggregator=aggregator, dataset=trainset, sim_client_num=sim_client_num)\n",
    "\n",
    "model_params = SerializationTool.serialize_model(model)\n",
    "\n",
    "test_handler.train(epochs=5, batch_size=128, idx_list=[1,2,3], model_parameters=model_params, cuda=True)\n",
    "\n"
   ]
  },
  {
   "cell_type": "code",
   "execution_count": null,
   "metadata": {},
   "outputs": [],
   "source": []
  }
 ],
 "metadata": {
  "kernelspec": {
   "name": "python3",
   "display_name": "Python 3.9.5 64-bit ('fedlab': conda)"
  },
  "language_info": {
   "codemirror_mode": {
    "name": "ipython",
    "version": 3
   },
   "file_extension": ".py",
   "mimetype": "text/x-python",
   "name": "python",
   "nbconvert_exporter": "python",
   "pygments_lexer": "ipython3",
   "version": "3.9.5"
  },
  "interpreter": {
   "hash": "76ea19439f36f4892158614b6aacd4db27ba9aee20c7fce98050784b23723422"
  }
 },
 "nbformat": 4,
 "nbformat_minor": 4
}