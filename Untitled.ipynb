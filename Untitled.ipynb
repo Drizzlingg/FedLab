{
 "cells": [
  {
   "cell_type": "code",
   "execution_count": 1,
   "id": "eb084a0d",
   "metadata": {},
   "outputs": [],
   "source": [
    "import torch\n",
    "from fedlab.core.communicator.package import Package"
   ]
  },
  {
   "cell_type": "code",
   "execution_count": 3,
   "id": "cbd172e4",
   "metadata": {},
   "outputs": [],
   "source": [
    "tensor = torch.Tensor(size=(10,))\n",
    "\n",
    "package = Package(content=tensor)"
   ]
  },
  {
   "cell_type": "code",
   "execution_count": 4,
   "id": "3dad18fb",
   "metadata": {},
   "outputs": [],
   "source": [
    "tensor_sizes = [10, 5, 8]\n",
    "tensor_list = [torch.rand(size) for size in tensor_sizes]\n",
    "package = Package(content=tensor_list)"
   ]
  },
  {
   "cell_type": "code",
   "execution_count": 6,
   "id": "8df856e1",
   "metadata": {},
   "outputs": [],
   "source": [
    "tensor = torch.Tensor(size=(10,))\n",
    "package = Package(content=tensor)\n",
    "\n",
    "new_tensor = torch.Tensor(size=(8,))\n",
    "package.append_tensor(new_tensor)"
   ]
  },
  {
   "cell_type": "code",
   "execution_count": 7,
   "id": "fa491baf",
   "metadata": {},
   "outputs": [],
   "source": [
    "tensor_sizes = [10, 5, 8]\n",
    "tensor_list = [torch.rand(size) for size in tensor_sizes]\n",
    "\n",
    "package = Package()\n",
    "package.append_tensor_list(tensor_list)"
   ]
  },
  {
   "cell_type": "code",
   "execution_count": null,
   "id": "0fa9e169",
   "metadata": {},
   "outputs": [],
   "source": [
    "from fedlab.core.communicator.processor import PackageProcessor"
   ]
  }
 ],
 "metadata": {
  "kernelspec": {
   "display_name": "Python 3.9.5 64-bit ('fedlab': conda)",
   "language": "python",
   "name": "python395jvsc74a57bd076ea19439f36f4892158614b6aacd4db27ba9aee20c7fce98050784b23723422"
  },
  "language_info": {
   "codemirror_mode": {
    "name": "ipython",
    "version": 3
   },
   "file_extension": ".py",
   "mimetype": "text/x-python",
   "name": "python",
   "nbconvert_exporter": "python",
   "pygments_lexer": "ipython3",
   "version": "3.9.5"
  }
 },
 "nbformat": 4,
 "nbformat_minor": 5
}
